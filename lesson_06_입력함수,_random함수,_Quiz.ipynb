{
  "cells": [
    {
      "cell_type": "markdown",
      "metadata": {
        "id": "view-in-github",
        "colab_type": "text"
      },
      "source": [
        "<a href=\"https://colab.research.google.com/github/codeboye/test-project/blob/main/lesson_06_%EC%9E%85%EB%A0%A5%ED%95%A8%EC%88%98%2C_random%ED%95%A8%EC%88%98%2C_Quiz.ipynb\" target=\"_parent\"><img src=\"https://colab.research.google.com/assets/colab-badge.svg\" alt=\"Open In Colab\"/></a>"
      ]
    },
    {
      "cell_type": "markdown",
      "metadata": {
        "id": "27sswvQNnoN5"
      },
      "source": [
        "#### 입력함수"
      ]
    },
    {
      "cell_type": "code",
      "execution_count": 1,
      "metadata": {
        "ExecuteTime": {
          "end_time": "2021-01-13T07:52:30.893622Z",
          "start_time": "2021-01-13T07:52:28.216480Z"
        },
        "id": "ooeXmH3mnoN9",
        "colab": {
          "base_uri": "https://localhost:8080/",
          "height": 54
        },
        "outputId": "deaaca13-769f-4400-b2e1-0fb9f3dc3889"
      },
      "outputs": [
        {
          "name": "stdout",
          "output_type": "stream",
          "text": [
            "문장을 입력하세요: 안녕하세요\n"
          ]
        },
        {
          "output_type": "execute_result",
          "data": {
            "text/plain": [
              "'안녕하세요'"
            ],
            "application/vnd.google.colaboratory.intrinsic+json": {
              "type": "string"
            }
          },
          "metadata": {},
          "execution_count": 1
        }
      ],
      "source": [
        "text = input(\"문장을 입력하세요: \")\n",
        "text"
      ]
    },
    {
      "cell_type": "markdown",
      "metadata": {
        "id": "GSqrJLDpnoN_"
      },
      "source": [
        "#### random 모듈\n",
        "    import random : random이라는 이름의 모듈 안의 함수들을 사용하겠다고 선언"
      ]
    },
    {
      "cell_type": "code",
      "execution_count": 8,
      "metadata": {
        "ExecuteTime": {
          "end_time": "2021-01-13T08:01:29.161740Z",
          "start_time": "2021-01-13T08:01:29.144794Z"
        },
        "colab": {
          "base_uri": "https://localhost:8080/"
        },
        "id": "uvpbALXCnoN_",
        "outputId": "1165562a-afad-4cbd-f4dc-46916865f67f"
      },
      "outputs": [
        {
          "output_type": "execute_result",
          "data": {
            "text/plain": [
              "7"
            ]
          },
          "metadata": {},
          "execution_count": 8
        }
      ],
      "source": [
        "import random\n",
        "random.randint(0,10)"
      ]
    },
    {
      "cell_type": "code",
      "execution_count": 10,
      "metadata": {
        "ExecuteTime": {
          "end_time": "2021-01-13T08:06:26.666689Z",
          "start_time": "2021-01-13T08:06:08.752772Z"
        },
        "id": "3Iul-nu3noOA",
        "outputId": "b62203a7-2ed9-49e9-c252-8e0b9a656b54",
        "colab": {
          "base_uri": "https://localhost:8080/"
        }
      },
      "outputs": [
        {
          "output_type": "stream",
          "name": "stdout",
          "text": [
            "질문을 입력하세요:파이썬에 대해 알려주세요\n",
            "전래전래전래동화\n"
          ]
        }
      ],
      "source": [
        "brand_new_words = [\n",
        "    \"홀리몰리과카몰리\",\n",
        "    \"전래전래전래동화\",\n",
        "    \"개펀리펀\",\n",
        "    \"킹받뜨라쉬\",\n",
        "    \"아차찹쌀떡~\"\n",
        "]\n",
        "\n",
        "import random\n",
        "idx = random.randint(0,len(brand_new_words)-1)\n",
        "\n",
        "input(\"질문을 입력하세요:\")\n",
        "print(brand_new_words[idx])"
      ]
    },
    {
      "cell_type": "code",
      "execution_count": 11,
      "metadata": {
        "ExecuteTime": {
          "end_time": "2021-01-14T01:20:32.313051Z",
          "start_time": "2021-01-14T01:20:32.292081Z"
        },
        "id": "gVxFGLJYnoOA",
        "outputId": "a3f5f0c2-2d9b-409e-c506-ff4569cdc2f9",
        "colab": {
          "base_uri": "https://localhost:8080/",
          "height": 35
        }
      },
      "outputs": [
        {
          "output_type": "execute_result",
          "data": {
            "text/plain": [
              "'1번'"
            ],
            "application/vnd.google.colaboratory.intrinsic+json": {
              "type": "string"
            }
          },
          "metadata": {},
          "execution_count": 11
        }
      ],
      "source": [
        "import random\n",
        "ls = ['1번','2번','3번','4번','5번']\n",
        "random.choice(ls)\n",
        "\n",
        "# blank"
      ]
    },
    {
      "cell_type": "markdown",
      "metadata": {
        "id": "9piVSI_4noOB"
      },
      "source": [
        "#### format 함수\n",
        "    변수의 데이터를 문자형으로 변환하여 출력할 수 있는 방법"
      ]
    },
    {
      "cell_type": "code",
      "execution_count": 12,
      "metadata": {
        "ExecuteTime": {
          "end_time": "2021-01-14T01:22:59.228884Z",
          "start_time": "2021-01-14T01:22:59.222900Z"
        },
        "id": "Uyq4Nyv1noOB",
        "colab": {
          "base_uri": "https://localhost:8080/"
        },
        "outputId": "3a9eb522-5257-46ae-cef4-fbeb8fc419d2"
      },
      "outputs": [
        {
          "output_type": "stream",
          "name": "stdout",
          "text": [
            "인출금액은 30000원 입니다. 현재 잔액은 70000원 입니다.\n",
            "인출금액은 30000원 입니다. 현재 잔액은 70000원 입니다.\n",
            "인출금액은 {draw}원 입니다. 현재 잔액은 {account}원 입니다.\n"
          ]
        }
      ],
      "source": [
        "account = 100_000\n",
        "draw = 30_000\n",
        "account -= draw\n",
        "\n",
        "print(\"인출금액은 {}원 입니다. 현재 잔액은 {}원 입니다.\".format(draw,account))\n",
        "print(\"인출금액은 %s원 입니다. 현재 잔액은 %s원 입니다.\"%(draw,account))\n",
        "print(\"인출금액은 {draw}원 입니다. 현재 잔액은 {account}원 입니다.\")\n",
        "\n",
        "# blank"
      ]
    },
    {
      "cell_type": "markdown",
      "metadata": {
        "id": "e4UtrxynnoOC"
      },
      "source": [
        "### Quiz\n",
        "    저녁먹고 남은돈, 랜덤으로 메뉴선택(금액을 입력), 차액에 따라 다음날 점심을 먹을 수 있다 없다를 출력\n",
        "    6000 이상 식사 가능,"
      ]
    },
    {
      "cell_type": "code",
      "execution_count": 13,
      "metadata": {
        "colab": {
          "base_uri": "https://localhost:8080/"
        },
        "id": "v8bnIFRunoOD",
        "outputId": "08056cca-3a8e-4724-a434-36d5e5c551f3"
      },
      "outputs": [
        {
          "output_type": "stream",
          "name": "stdout",
          "text": [
            "금액을 입력하세요: 2000\n",
            "남은 돈이 2000원 이라니 .. 이거 실화냐\n"
          ]
        }
      ],
      "source": [
        "wallet = int(input(\"금액을 입력하세요: \"))\n",
        "\n",
        "menu = [15000, 8000, 4500]\n",
        "import random\n",
        "dinner = random.choice(menu)\n",
        "\n",
        "if wallet >= dinner :\n",
        "  wallet -= dinner\n",
        "  if wallet>= 6000:\n",
        "    print(\"저녁식대는 {}원\".format(dinner))\n",
        "    print(\"남은 돈이 {}원이니 저녁도 가능하고 점심은 든든한 국밥이지~\".format(wallet))\n",
        "  else: \n",
        "    print(\"저녁 식대는 {}원\",format(dinner))\n",
        "    print(\"남은 돈이 {}원이니 저녁은 못먹어도 점심은 국밥 한 그릇 먹어야겠구나~\".format(wallet))\n",
        "else : \n",
        "  if wallet >= 6000:\n",
        "    print(\"저녁 식대는 {}원\".format(dinner))\n",
        "    print(\"남은 돈이 {}원이니 저녁은 못먹어도 점심은 국밥 한 그릇 먹어야겠구나~\".format(wallet))\n",
        "  else:\n",
        "    print(\"남은 돈이 {}원 이라니 .. 이거 실화냐\".format(wallet))\n",
        "\n",
        "# blank"
      ]
    },
    {
      "cell_type": "code",
      "source": [
        ""
      ],
      "metadata": {
        "id": "Z-Ce4pFZn9rv"
      },
      "execution_count": null,
      "outputs": []
    }
  ],
  "metadata": {
    "hide_input": false,
    "kernelspec": {
      "display_name": "Python 3",
      "language": "python",
      "name": "python3"
    },
    "language_info": {
      "codemirror_mode": {
        "name": "ipython",
        "version": 3
      },
      "file_extension": ".py",
      "mimetype": "text/x-python",
      "name": "python",
      "nbconvert_exporter": "python",
      "pygments_lexer": "ipython3",
      "version": "3.8.5"
    },
    "toc": {
      "base_numbering": 1,
      "nav_menu": {},
      "number_sections": true,
      "sideBar": true,
      "skip_h1_title": false,
      "title_cell": "Table of Contents",
      "title_sidebar": "Contents",
      "toc_cell": false,
      "toc_position": {},
      "toc_section_display": true,
      "toc_window_display": false
    },
    "varInspector": {
      "cols": {
        "lenName": 16,
        "lenType": 16,
        "lenVar": 40
      },
      "kernels_config": {
        "python": {
          "delete_cmd_postfix": "",
          "delete_cmd_prefix": "del ",
          "library": "var_list.py",
          "varRefreshCmd": "print(var_dic_list())"
        },
        "r": {
          "delete_cmd_postfix": ") ",
          "delete_cmd_prefix": "rm(",
          "library": "var_list.r",
          "varRefreshCmd": "cat(var_dic_list()) "
        }
      },
      "types_to_exclude": [
        "module",
        "function",
        "builtin_function_or_method",
        "instance",
        "_Feature"
      ],
      "window_display": false
    },
    "colab": {
      "name": "lesson 06. 입력함수, random함수, Quiz.ipynb",
      "provenance": [],
      "collapsed_sections": [],
      "include_colab_link": true
    }
  },
  "nbformat": 4,
  "nbformat_minor": 0
}