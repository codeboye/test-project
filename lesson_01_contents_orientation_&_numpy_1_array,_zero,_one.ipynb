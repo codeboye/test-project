{
  "cells": [
    {
      "cell_type": "markdown",
      "metadata": {
        "id": "view-in-github",
        "colab_type": "text"
      },
      "source": [
        "<a href=\"https://colab.research.google.com/github/codeboye/test-project/blob/main/lesson_01_contents_orientation_%26_numpy_1_array%2C_zero%2C_one.ipynb\" target=\"_parent\"><img src=\"https://colab.research.google.com/assets/colab-badge.svg\" alt=\"Open In Colab\"/></a>"
      ]
    },
    {
      "cell_type": "markdown",
      "metadata": {
        "id": "S7G697GlkkUE"
      },
      "source": [
        "## 목차\n",
        "    - numpy\n",
        "    - pandas\n",
        "    - matplotlib & seaborn\n",
        "    - scikit-learn"
      ]
    },
    {
      "cell_type": "markdown",
      "metadata": {
        "id": "kDriuf94kkUK"
      },
      "source": [
        "### Numpy\n",
        "    - 행렬 연산을 가능하게 해주는 패키지\n",
        "    - python으로 작성되나 연산은 C, C++, 포트란으로 진행\n",
        "        - 선형대수 연산을 빠르게 할 수 있음"
      ]
    },
    {
      "cell_type": "code",
      "execution_count": 2,
      "metadata": {
        "ExecuteTime": {
          "end_time": "2021-02-02T01:38:00.546479Z",
          "start_time": "2021-02-02T01:38:00.528522Z"
        },
        "colab": {
          "base_uri": "https://localhost:8080/"
        },
        "id": "4X0KfSQvkkUM",
        "outputId": "c70afa37-d3c8-4894-8cec-dfeb325d7bed"
      },
      "outputs": [
        {
          "output_type": "execute_result",
          "data": {
            "text/plain": [
              "(numpy.ndarray, array([1, 2, 3], dtype=int32))"
            ]
          },
          "metadata": {},
          "execution_count": 2
        }
      ],
      "source": [
        "import numpy as np\n",
        "ary = np.array([1, 2, 3], dtype = 'int32')\n",
        "type(ary), ary"
      ]
    },
    {
      "cell_type": "markdown",
      "metadata": {
        "id": "7j2ljFz7kkUP"
      },
      "source": [
        "    - ndarray : 한가지 데이터 타입만으로 사용이 가능"
      ]
    },
    {
      "cell_type": "code",
      "execution_count": 3,
      "metadata": {
        "ExecuteTime": {
          "end_time": "2021-02-02T01:39:20.920270Z",
          "start_time": "2021-02-02T01:39:20.903288Z"
        },
        "colab": {
          "base_uri": "https://localhost:8080/"
        },
        "id": "0cdxsEr1kkUQ",
        "outputId": "af34d679-bedc-48c4-dcbd-f6fa7b0b007f"
      },
      "outputs": [
        {
          "output_type": "stream",
          "name": "stdout",
          "text": [
            "[[1 2 3]\n",
            " [4 5 6]]\n",
            "2\n",
            "(2, 3)\n",
            "6\n",
            "int64\n"
          ]
        }
      ],
      "source": [
        "ary2 = np.array([[1, 2, 3],\n",
        "                 [4, 5, 6]])\n",
        "print(ary2)\n",
        "print(ary2.ndim)\n",
        "print(ary2.shape)\n",
        "print(ary2.size)\n",
        "print(ary2.dtype)"
      ]
    },
    {
      "cell_type": "code",
      "source": [
        "help(np.random.randint)"
      ],
      "metadata": {
        "colab": {
          "base_uri": "https://localhost:8080/"
        },
        "id": "0tbMFNpClc8p",
        "outputId": "cbfbc3c8-30a3-405c-b9fb-6bdd9d5bf409"
      },
      "execution_count": 4,
      "outputs": [
        {
          "output_type": "stream",
          "name": "stdout",
          "text": [
            "Help on built-in function randint:\n",
            "\n",
            "randint(...) method of numpy.random.mtrand.RandomState instance\n",
            "    randint(low, high=None, size=None, dtype=int)\n",
            "    \n",
            "    Return random integers from `low` (inclusive) to `high` (exclusive).\n",
            "    \n",
            "    Return random integers from the \"discrete uniform\" distribution of\n",
            "    the specified dtype in the \"half-open\" interval [`low`, `high`). If\n",
            "    `high` is None (the default), then results are from [0, `low`).\n",
            "    \n",
            "    .. note::\n",
            "        New code should use the ``integers`` method of a ``default_rng()``\n",
            "        instance instead; please see the :ref:`random-quick-start`.\n",
            "    \n",
            "    Parameters\n",
            "    ----------\n",
            "    low : int or array-like of ints\n",
            "        Lowest (signed) integers to be drawn from the distribution (unless\n",
            "        ``high=None``, in which case this parameter is one above the\n",
            "        *highest* such integer).\n",
            "    high : int or array-like of ints, optional\n",
            "        If provided, one above the largest (signed) integer to be drawn\n",
            "        from the distribution (see above for behavior if ``high=None``).\n",
            "        If array-like, must contain integer values\n",
            "    size : int or tuple of ints, optional\n",
            "        Output shape.  If the given shape is, e.g., ``(m, n, k)``, then\n",
            "        ``m * n * k`` samples are drawn.  Default is None, in which case a\n",
            "        single value is returned.\n",
            "    dtype : dtype, optional\n",
            "        Desired dtype of the result. Byteorder must be native.\n",
            "        The default value is int.\n",
            "    \n",
            "        .. versionadded:: 1.11.0\n",
            "    \n",
            "    Returns\n",
            "    -------\n",
            "    out : int or ndarray of ints\n",
            "        `size`-shaped array of random integers from the appropriate\n",
            "        distribution, or a single such random int if `size` not provided.\n",
            "    \n",
            "    See Also\n",
            "    --------\n",
            "    random_integers : similar to `randint`, only for the closed\n",
            "        interval [`low`, `high`], and 1 is the lowest value if `high` is\n",
            "        omitted.\n",
            "    Generator.integers: which should be used for new code.\n",
            "    \n",
            "    Examples\n",
            "    --------\n",
            "    >>> np.random.randint(2, size=10)\n",
            "    array([1, 0, 0, 0, 1, 1, 0, 0, 1, 0]) # random\n",
            "    >>> np.random.randint(1, size=10)\n",
            "    array([0, 0, 0, 0, 0, 0, 0, 0, 0, 0])\n",
            "    \n",
            "    Generate a 2 x 4 array of ints between 0 and 4, inclusive:\n",
            "    \n",
            "    >>> np.random.randint(5, size=(2, 4))\n",
            "    array([[4, 0, 2, 1], # random\n",
            "           [3, 2, 2, 0]])\n",
            "    \n",
            "    Generate a 1 x 3 array with 3 different upper bounds\n",
            "    \n",
            "    >>> np.random.randint(1, [3, 5, 10])\n",
            "    array([2, 2, 9]) # random\n",
            "    \n",
            "    Generate a 1 by 3 array with 3 different lower bounds\n",
            "    \n",
            "    >>> np.random.randint([1, 5, 7], 10)\n",
            "    array([9, 8, 7]) # random\n",
            "    \n",
            "    Generate a 2 by 4 array using broadcasting with dtype of uint8\n",
            "    \n",
            "    >>> np.random.randint([1, 3, 5, 7], [[10], [20]], dtype=np.uint8)\n",
            "    array([[ 8,  6,  9,  7], # random\n",
            "           [ 1, 16,  9, 12]], dtype=uint8)\n",
            "\n"
          ]
        }
      ]
    },
    {
      "cell_type": "code",
      "source": [
        "a = np.random.randint(2,10,size=(5,))\n",
        "b = np.random.randint(2,10,size=(2,4))\n",
        "c = np.random.randint(2,10,size=(2,3,4))\n",
        "print(a)\n",
        "print(b)\n",
        "print(c)"
      ],
      "metadata": {
        "colab": {
          "base_uri": "https://localhost:8080/"
        },
        "id": "pIrTF4e8mrLK",
        "outputId": "b4180f9c-0a01-4f21-f3a8-88c0028e43b4"
      },
      "execution_count": 5,
      "outputs": [
        {
          "output_type": "stream",
          "name": "stdout",
          "text": [
            "[2 2 8 9 5]\n",
            "[[3 7 7 2]\n",
            " [3 3 6 8]]\n",
            "[[[5 5 3 7]\n",
            "  [9 7 6 6]\n",
            "  [7 9 4 6]]\n",
            "\n",
            " [[4 5 3 8]\n",
            "  [9 8 5 8]\n",
            "  [9 4 6 5]]]\n"
          ]
        }
      ]
    },
    {
      "cell_type": "code",
      "execution_count": 8,
      "metadata": {
        "ExecuteTime": {
          "end_time": "2021-02-02T01:39:51.378729Z",
          "start_time": "2021-02-02T01:39:51.371748Z"
        },
        "colab": {
          "base_uri": "https://localhost:8080/"
        },
        "id": "Y5IlL1WVkkUR",
        "outputId": "24494cf9-92fc-49b2-c988-298c4fdcf2ac"
      },
      "outputs": [
        {
          "output_type": "execute_result",
          "data": {
            "text/plain": [
              "array([[1, 2],\n",
              "       [3, 4],\n",
              "       [5, 6]])"
            ]
          },
          "metadata": {},
          "execution_count": 8
        }
      ],
      "source": [
        "ary2 = np.array([[1, 2, 3],\n",
        "                 [4, 5, 6]])\n",
        "ary2.reshape(3, 2)"
      ]
    },
    {
      "cell_type": "code",
      "execution_count": 9,
      "metadata": {
        "ExecuteTime": {
          "end_time": "2021-02-02T01:40:30.129131Z",
          "start_time": "2021-02-02T01:40:30.108640Z"
        },
        "colab": {
          "base_uri": "https://localhost:8080/"
        },
        "id": "Hc2W5uhnkkUS",
        "outputId": "cbacfb70-9cb7-41bc-cbff-c8dbd0f5ff90"
      },
      "outputs": [
        {
          "output_type": "execute_result",
          "data": {
            "text/plain": [
              "array([4, 5, 6])"
            ]
          },
          "metadata": {},
          "execution_count": 9
        }
      ],
      "source": [
        "ary2[1]"
      ]
    },
    {
      "cell_type": "code",
      "execution_count": 10,
      "metadata": {
        "ExecuteTime": {
          "end_time": "2021-02-02T01:40:41.796092Z",
          "start_time": "2021-02-02T01:40:41.785080Z"
        },
        "colab": {
          "base_uri": "https://localhost:8080/"
        },
        "id": "EclhrdL4kkUT",
        "outputId": "17ec2088-7623-449e-c342-295666f0374c"
      },
      "outputs": [
        {
          "output_type": "execute_result",
          "data": {
            "text/plain": [
              "5"
            ]
          },
          "metadata": {},
          "execution_count": 10
        }
      ],
      "source": [
        "ary2[1, 1]"
      ]
    },
    {
      "cell_type": "markdown",
      "metadata": {
        "id": "RDPHOSSekkUU"
      },
      "source": [
        "#### 데이터 수정"
      ]
    },
    {
      "cell_type": "code",
      "execution_count": 11,
      "metadata": {
        "ExecuteTime": {
          "end_time": "2021-02-02T01:41:05.267642Z",
          "start_time": "2021-02-02T01:41:05.250664Z"
        },
        "colab": {
          "base_uri": "https://localhost:8080/"
        },
        "id": "ZPmkSpklkkUV",
        "outputId": "fc950858-2cab-4bea-8213-8e089aacd841"
      },
      "outputs": [
        {
          "output_type": "execute_result",
          "data": {
            "text/plain": [
              "[1, 5, 3]"
            ]
          },
          "metadata": {},
          "execution_count": 11
        }
      ],
      "source": [
        "ls = [1, 2, 3]\n",
        "ls[1] = 5\n",
        "ls"
      ]
    },
    {
      "cell_type": "code",
      "execution_count": 12,
      "metadata": {
        "ExecuteTime": {
          "end_time": "2021-02-02T01:41:41.214434Z",
          "start_time": "2021-02-02T01:41:41.207453Z"
        },
        "colab": {
          "base_uri": "https://localhost:8080/"
        },
        "id": "0mIiZqvZkkUW",
        "outputId": "a72aa988-b49f-43dc-ed52-b6af62777aa6"
      },
      "outputs": [
        {
          "output_type": "execute_result",
          "data": {
            "text/plain": [
              "array([[1, 2, 3],\n",
              "       [0, 0, 0]])"
            ]
          },
          "metadata": {},
          "execution_count": 12
        }
      ],
      "source": [
        "ary3 = np.array([[1, 2, 3],\n",
        "                 [0, 1, 0]])\n",
        "ary3[1][1] = 0\n",
        "ary3"
      ]
    },
    {
      "cell_type": "markdown",
      "metadata": {
        "id": "HKQaoia6kkUX"
      },
      "source": [
        "##### array 브로드캐스팅"
      ]
    },
    {
      "cell_type": "code",
      "execution_count": 13,
      "metadata": {
        "ExecuteTime": {
          "end_time": "2021-02-02T01:42:06.656677Z",
          "start_time": "2021-02-02T01:42:06.637726Z"
        },
        "colab": {
          "base_uri": "https://localhost:8080/"
        },
        "id": "9i3Act9CkkUX",
        "outputId": "611a57df-fce2-4461-eac6-7315daca1d81"
      },
      "outputs": [
        {
          "output_type": "execute_result",
          "data": {
            "text/plain": [
              "array([[0, 0, 0],\n",
              "       [0, 0, 0]])"
            ]
          },
          "metadata": {},
          "execution_count": 13
        }
      ],
      "source": [
        "ary3[0] = 0\n",
        "ary3"
      ]
    },
    {
      "cell_type": "markdown",
      "metadata": {
        "id": "nu5li0RbkkUX"
      },
      "source": [
        "##### array 조건 선택"
      ]
    },
    {
      "cell_type": "code",
      "execution_count": 14,
      "metadata": {
        "ExecuteTime": {
          "end_time": "2021-02-02T01:42:53.899652Z",
          "start_time": "2021-02-02T01:42:53.887684Z"
        },
        "colab": {
          "base_uri": "https://localhost:8080/"
        },
        "id": "YPj-BDdQkkUY",
        "outputId": "3b8c0c04-3a61-485b-aae4-a542dfd5a4df"
      },
      "outputs": [
        {
          "output_type": "execute_result",
          "data": {
            "text/plain": [
              "array([[5, 5, 5],\n",
              "       [5, 6, 7]])"
            ]
          },
          "metadata": {},
          "execution_count": 14
        }
      ],
      "source": [
        "ary3[0] = 5\n",
        "ary3[1] = [5, 6, 7]\n",
        "ary3"
      ]
    },
    {
      "cell_type": "code",
      "execution_count": 16,
      "metadata": {
        "ExecuteTime": {
          "end_time": "2021-02-02T01:43:36.435560Z",
          "start_time": "2021-02-02T01:43:36.428609Z"
        },
        "colab": {
          "base_uri": "https://localhost:8080/"
        },
        "id": "tYDunQy3kkUY",
        "outputId": "f61e4449-3750-4fd8-e9d4-ad1c7b5d354c"
      },
      "outputs": [
        {
          "output_type": "execute_result",
          "data": {
            "text/plain": [
              "array([[False, False, False],\n",
              "       [False,  True,  True]])"
            ]
          },
          "metadata": {},
          "execution_count": 16
        }
      ],
      "source": [
        "idx = ary3>5\n",
        "idx"
      ]
    },
    {
      "cell_type": "code",
      "execution_count": 17,
      "metadata": {
        "ExecuteTime": {
          "end_time": "2021-02-02T01:43:36.975713Z",
          "start_time": "2021-02-02T01:43:36.956738Z"
        },
        "colab": {
          "base_uri": "https://localhost:8080/"
        },
        "id": "1Rorc4WTkkUZ",
        "outputId": "cf1497a8-d06e-4058-d804-ba336d20c933"
      },
      "outputs": [
        {
          "output_type": "execute_result",
          "data": {
            "text/plain": [
              "array([6, 7])"
            ]
          },
          "metadata": {},
          "execution_count": 17
        }
      ],
      "source": [
        "ary3[idx]"
      ]
    },
    {
      "cell_type": "markdown",
      "metadata": {
        "id": "FZH59wFQkkUZ"
      },
      "source": [
        "##### 조건에 맞는 값만 변경"
      ]
    },
    {
      "cell_type": "code",
      "execution_count": 18,
      "metadata": {
        "ExecuteTime": {
          "end_time": "2021-02-02T01:43:58.414724Z",
          "start_time": "2021-02-02T01:43:58.395749Z"
        },
        "colab": {
          "base_uri": "https://localhost:8080/"
        },
        "id": "hqJXCDqQkkUZ",
        "outputId": "f23b005b-b49e-454d-a16a-3ae8626c18f7"
      },
      "outputs": [
        {
          "output_type": "execute_result",
          "data": {
            "text/plain": [
              "array([[  5,   5,   5],\n",
              "       [  5, 100, 100]])"
            ]
          },
          "metadata": {},
          "execution_count": 18
        }
      ],
      "source": [
        "ary3[idx] = 100\n",
        "ary3"
      ]
    },
    {
      "cell_type": "markdown",
      "metadata": {
        "id": "5G8ZHI0hkkUa"
      },
      "source": [
        "#### zero array"
      ]
    },
    {
      "cell_type": "code",
      "execution_count": 20,
      "metadata": {
        "ExecuteTime": {
          "end_time": "2021-02-02T01:44:32.926690Z",
          "start_time": "2021-02-02T01:44:32.919711Z"
        },
        "colab": {
          "base_uri": "https://localhost:8080/"
        },
        "id": "Pd1RkJgOkkUa",
        "outputId": "0aa53f30-65e7-48df-f85b-4add1837d316"
      },
      "outputs": [
        {
          "output_type": "execute_result",
          "data": {
            "text/plain": [
              "array([[0., 0., 0.],\n",
              "       [0., 0., 0.]])"
            ]
          },
          "metadata": {},
          "execution_count": 20
        }
      ],
      "source": [
        "zero_ary = np.zeros(shape = (2, 3))\n",
        "zero_ary"
      ]
    },
    {
      "cell_type": "code",
      "execution_count": 21,
      "metadata": {
        "ExecuteTime": {
          "end_time": "2021-02-02T01:44:46.433063Z",
          "start_time": "2021-02-02T01:44:46.426074Z"
        },
        "colab": {
          "base_uri": "https://localhost:8080/"
        },
        "id": "JRq3swF5kkUa",
        "outputId": "eb3e240b-53e6-4536-cde5-e047683899b6"
      },
      "outputs": [
        {
          "output_type": "execute_result",
          "data": {
            "text/plain": [
              "numpy.ndarray"
            ]
          },
          "metadata": {},
          "execution_count": 21
        }
      ],
      "source": [
        "type(zero_ary)"
      ]
    },
    {
      "cell_type": "code",
      "execution_count": 22,
      "metadata": {
        "ExecuteTime": {
          "end_time": "2021-02-02T01:45:01.103458Z",
          "start_time": "2021-02-02T01:45:01.092488Z"
        },
        "colab": {
          "base_uri": "https://localhost:8080/"
        },
        "id": "IPci27TmkkUb",
        "outputId": "640c1f71-4433-4a4a-94b6-b8c063889088"
      },
      "outputs": [
        {
          "output_type": "execute_result",
          "data": {
            "text/plain": [
              "dtype('float64')"
            ]
          },
          "metadata": {},
          "execution_count": 22
        }
      ],
      "source": [
        "zero_ary.dtype # 실수형 값만 바꿔 넣을 수 있음"
      ]
    },
    {
      "cell_type": "markdown",
      "metadata": {
        "id": "hBew1y7xkkUb"
      },
      "source": [
        "##### array안의 데이터 형태 변경"
      ]
    },
    {
      "cell_type": "code",
      "execution_count": 23,
      "metadata": {
        "ExecuteTime": {
          "end_time": "2021-02-02T01:46:02.240813Z",
          "start_time": "2021-02-02T01:46:02.231868Z"
        },
        "colab": {
          "base_uri": "https://localhost:8080/"
        },
        "id": "eSzaEsmmkkUb",
        "outputId": "eb1c0d84-a576-410d-d673-ca349fad59ff"
      },
      "outputs": [
        {
          "output_type": "execute_result",
          "data": {
            "text/plain": [
              "dtype('int64')"
            ]
          },
          "metadata": {},
          "execution_count": 23
        }
      ],
      "source": [
        "z2 = zero_ary.astype('int')\n",
        "z2.dtype"
      ]
    },
    {
      "cell_type": "markdown",
      "metadata": {
        "id": "kaKEL7RikkUb"
      },
      "source": [
        "#### one array"
      ]
    },
    {
      "cell_type": "code",
      "execution_count": 24,
      "metadata": {
        "ExecuteTime": {
          "end_time": "2021-02-02T01:48:07.903196Z",
          "start_time": "2021-02-02T01:48:07.888234Z"
        },
        "colab": {
          "base_uri": "https://localhost:8080/"
        },
        "id": "Yc490T2YkkUc",
        "outputId": "ba45bf90-589e-4a9b-a7dc-c84f50babe7d"
      },
      "outputs": [
        {
          "output_type": "execute_result",
          "data": {
            "text/plain": [
              "(dtype('float64'), array([[1., 1., 1.],\n",
              "        [1., 1., 1.]]))"
            ]
          },
          "metadata": {},
          "execution_count": 24
        }
      ],
      "source": [
        "one_ary = np.ones((2, 3))\n",
        "one_ary.dtype, one_ary"
      ]
    },
    {
      "cell_type": "code",
      "execution_count": 25,
      "metadata": {
        "ExecuteTime": {
          "end_time": "2021-02-02T01:48:41.625341Z",
          "start_time": "2021-02-02T01:48:41.616365Z"
        },
        "colab": {
          "base_uri": "https://localhost:8080/"
        },
        "id": "Gsgks4FUkkUc",
        "outputId": "69df2abe-c478-4ecc-aa8e-1c39b4f00ec9"
      },
      "outputs": [
        {
          "output_type": "execute_result",
          "data": {
            "text/plain": [
              "(dtype('int64'), array([[[1, 1],\n",
              "         [1, 1],\n",
              "         [1, 1]],\n",
              " \n",
              "        [[1, 1],\n",
              "         [1, 1],\n",
              "         [1, 1]]]))"
            ]
          },
          "metadata": {},
          "execution_count": 25
        }
      ],
      "source": [
        "one_ary2 = np.ones((2, 3, 2)).astype('int')\n",
        "one_ary2.dtype, one_ary2"
      ]
    },
    {
      "cell_type": "code",
      "source": [
        "id = np.identity(n = 9, dtype = np.int8)\n",
        "id"
      ],
      "metadata": {
        "colab": {
          "base_uri": "https://localhost:8080/"
        },
        "id": "mZJsF2s8qEyw",
        "outputId": "ea997df6-218f-464a-ee80-1fe6dde9797f"
      },
      "execution_count": 29,
      "outputs": [
        {
          "output_type": "execute_result",
          "data": {
            "text/plain": [
              "array([[1, 0, 0, 0, 0, 0, 0, 0, 0],\n",
              "       [0, 1, 0, 0, 0, 0, 0, 0, 0],\n",
              "       [0, 0, 1, 0, 0, 0, 0, 0, 0],\n",
              "       [0, 0, 0, 1, 0, 0, 0, 0, 0],\n",
              "       [0, 0, 0, 0, 1, 0, 0, 0, 0],\n",
              "       [0, 0, 0, 0, 0, 1, 0, 0, 0],\n",
              "       [0, 0, 0, 0, 0, 0, 1, 0, 0],\n",
              "       [0, 0, 0, 0, 0, 0, 0, 1, 0],\n",
              "       [0, 0, 0, 0, 0, 0, 0, 0, 1]], dtype=int8)"
            ]
          },
          "metadata": {},
          "execution_count": 29
        }
      ]
    },
    {
      "cell_type": "markdown",
      "metadata": {
        "id": "TT--byqdkkUc"
      },
      "source": [
        "#### 범위값 array 생성"
      ]
    },
    {
      "cell_type": "code",
      "execution_count": 30,
      "metadata": {
        "ExecuteTime": {
          "end_time": "2021-02-02T01:58:29.771621Z",
          "start_time": "2021-02-02T01:58:29.761651Z"
        },
        "colab": {
          "base_uri": "https://localhost:8080/"
        },
        "id": "uJp87SSWkkUc",
        "outputId": "05e0ca5c-f8b7-4952-e482-410130726b3c"
      },
      "outputs": [
        {
          "output_type": "execute_result",
          "data": {
            "text/plain": [
              "array([ 1,  2,  3,  4,  5,  6,  7,  8,  9, 10])"
            ]
          },
          "metadata": {},
          "execution_count": 30
        }
      ],
      "source": [
        "arg = np.arange(1, 11)\n",
        "arg"
      ]
    }
  ],
  "metadata": {
    "hide_input": false,
    "kernelspec": {
      "display_name": "Python 3",
      "language": "python",
      "name": "python3"
    },
    "language_info": {
      "codemirror_mode": {
        "name": "ipython",
        "version": 3
      },
      "file_extension": ".py",
      "mimetype": "text/x-python",
      "name": "python",
      "nbconvert_exporter": "python",
      "pygments_lexer": "ipython3",
      "version": "3.8.5"
    },
    "toc": {
      "base_numbering": 1,
      "nav_menu": {},
      "number_sections": true,
      "sideBar": true,
      "skip_h1_title": false,
      "title_cell": "Table of Contents",
      "title_sidebar": "Contents",
      "toc_cell": false,
      "toc_position": {},
      "toc_section_display": true,
      "toc_window_display": false
    },
    "varInspector": {
      "cols": {
        "lenName": 16,
        "lenType": 16,
        "lenVar": 40
      },
      "kernels_config": {
        "python": {
          "delete_cmd_postfix": "",
          "delete_cmd_prefix": "del ",
          "library": "var_list.py",
          "varRefreshCmd": "print(var_dic_list())"
        },
        "r": {
          "delete_cmd_postfix": ") ",
          "delete_cmd_prefix": "rm(",
          "library": "var_list.r",
          "varRefreshCmd": "cat(var_dic_list()) "
        }
      },
      "types_to_exclude": [
        "module",
        "function",
        "builtin_function_or_method",
        "instance",
        "_Feature"
      ],
      "window_display": false
    },
    "colab": {
      "name": "lesson 01. contents orientation & numpy 1 - array, zero, one.ipynb",
      "provenance": [],
      "include_colab_link": true
    }
  },
  "nbformat": 4,
  "nbformat_minor": 0
}