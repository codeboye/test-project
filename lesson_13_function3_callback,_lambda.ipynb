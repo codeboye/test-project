{
  "cells": [
    {
      "cell_type": "markdown",
      "metadata": {
        "id": "view-in-github",
        "colab_type": "text"
      },
      "source": [
        "<a href=\"https://colab.research.google.com/github/codeboye/test-project/blob/main/lesson_13_function3_callback%2C_lambda.ipynb\" target=\"_parent\"><img src=\"https://colab.research.google.com/assets/colab-badge.svg\" alt=\"Open In Colab\"/></a>"
      ]
    },
    {
      "cell_type": "markdown",
      "metadata": {
        "id": "zlNuuro6GKxi"
      },
      "source": [
        "#### callback function\n",
        "    - 함수를 args 파라미터로 설정해서 사용\n",
        "    - 함수가 다른 함수를 호출하여 결과값을 실행\n",
        "        - 재귀함수에서 잘 사용"
      ]
    },
    {
      "cell_type": "code",
      "execution_count": 1,
      "metadata": {
        "id": "MeFHQntJGKxm"
      },
      "outputs": [],
      "source": [
        "# blank\n",
        "def calc(func,a,b):\n",
        "  return func(a,b)"
      ]
    },
    {
      "cell_type": "code",
      "execution_count": 2,
      "metadata": {
        "id": "Jk_rOqICGKxn"
      },
      "outputs": [],
      "source": [
        "# blank\n",
        "def hap(a,b):\n",
        "  return a+b\n",
        "def gop(a,b):\n",
        "  return a*b"
      ]
    },
    {
      "cell_type": "code",
      "execution_count": 3,
      "metadata": {
        "id": "kpWyM6ilGKxn",
        "colab": {
          "base_uri": "https://localhost:8080/"
        },
        "outputId": "760c4b5e-8cb7-4c3e-b814-4fb962d56654"
      },
      "outputs": [
        {
          "output_type": "execute_result",
          "data": {
            "text/plain": [
              "(5, 30)"
            ]
          },
          "metadata": {},
          "execution_count": 3
        }
      ],
      "source": [
        "# blank\n",
        "calc(hap,2,3), calc(gop,5,6)"
      ]
    },
    {
      "cell_type": "code",
      "execution_count": 4,
      "metadata": {
        "id": "9bIIlPkqGKxn",
        "colab": {
          "base_uri": "https://localhost:8080/"
        },
        "outputId": "d14a1c1f-49c0-4d41-b5b2-66fd9e464f1f"
      },
      "outputs": [
        {
          "output_type": "stream",
          "name": "stdout",
          "text": [
            "120\n"
          ]
        }
      ],
      "source": [
        "# blank\n",
        "def factorial(n):\n",
        "  if n==1:\n",
        "    return 1\n",
        "  return n*factorial(n-1)\n",
        "print(factorial(5))"
      ]
    },
    {
      "cell_type": "markdown",
      "metadata": {
        "id": "J8n8vLUwGKxo"
      },
      "source": [
        "#### lambda function\n",
        "    - 파라미터를 간단한 계산으로 리턴"
      ]
    },
    {
      "cell_type": "code",
      "execution_count": 5,
      "metadata": {
        "id": "Y4w7MvE-GKxo",
        "colab": {
          "base_uri": "https://localhost:8080/"
        },
        "outputId": "22e2e4e9-009f-4c96-d21b-7225fa265481"
      },
      "outputs": [
        {
          "output_type": "execute_result",
          "data": {
            "text/plain": [
              "(9, 9)"
            ]
          },
          "metadata": {},
          "execution_count": 5
        }
      ],
      "source": [
        "# blank\n",
        "def hap(a,b):\n",
        "  return a+b\n",
        "hap2 = lambda a,b: a+b\n",
        "hap2(4,5),hap(4,5)"
      ]
    },
    {
      "cell_type": "markdown",
      "metadata": {
        "id": "rFu6s2wdGKxp"
      },
      "source": [
        "### Quiz"
      ]
    },
    {
      "cell_type": "markdown",
      "metadata": {
        "id": "2epr0rEXGKxq"
      },
      "source": [
        "#### string 타입 데이터를 입력 받았을 때 문자열 가운데를 출력"
      ]
    },
    {
      "cell_type": "code",
      "execution_count": 6,
      "metadata": {
        "id": "B9232iGkGKxq",
        "colab": {
          "base_uri": "https://localhost:8080/"
        },
        "outputId": "932e64c4-3cab-42fe-fc9f-f2cd96da3c6a"
      },
      "outputs": [
        {
          "output_type": "stream",
          "name": "stdout",
          "text": [
            "text :  start up university\n",
            "length : 9\n"
          ]
        }
      ],
      "source": [
        "# blank\n",
        "text = 'start up university'\n",
        "a = int(len(text)/2)\n",
        "print(\"text : \",text)\n",
        "print(\"length :\",a)"
      ]
    },
    {
      "cell_type": "code",
      "source": [
        "# blank\n",
        "substr = lambda x : text[a] if len(text)%2 else text[a-1:a]\n",
        "substr(text)"
      ],
      "metadata": {
        "id": "AfW5kGF7G969",
        "colab": {
          "base_uri": "https://localhost:8080/",
          "height": 35
        },
        "outputId": "508c3f6d-ffc6-4339-a57f-ffb00eba7015"
      },
      "execution_count": 7,
      "outputs": [
        {
          "output_type": "execute_result",
          "data": {
            "text/plain": [
              "'u'"
            ],
            "application/vnd.google.colaboratory.intrinsic+json": {
              "type": "string"
            }
          },
          "metadata": {},
          "execution_count": 7
        }
      ]
    }
  ],
  "metadata": {
    "hide_input": false,
    "kernelspec": {
      "display_name": "Python 3",
      "language": "python",
      "name": "python3"
    },
    "language_info": {
      "codemirror_mode": {
        "name": "ipython",
        "version": 3
      },
      "file_extension": ".py",
      "mimetype": "text/x-python",
      "name": "python",
      "nbconvert_exporter": "python",
      "pygments_lexer": "ipython3",
      "version": "3.8.5"
    },
    "toc": {
      "base_numbering": 1,
      "nav_menu": {},
      "number_sections": true,
      "sideBar": true,
      "skip_h1_title": false,
      "title_cell": "Table of Contents",
      "title_sidebar": "Contents",
      "toc_cell": false,
      "toc_position": {},
      "toc_section_display": true,
      "toc_window_display": false
    },
    "varInspector": {
      "cols": {
        "lenName": 16,
        "lenType": 16,
        "lenVar": 40
      },
      "kernels_config": {
        "python": {
          "delete_cmd_postfix": "",
          "delete_cmd_prefix": "del ",
          "library": "var_list.py",
          "varRefreshCmd": "print(var_dic_list())"
        },
        "r": {
          "delete_cmd_postfix": ") ",
          "delete_cmd_prefix": "rm(",
          "library": "var_list.r",
          "varRefreshCmd": "cat(var_dic_list()) "
        }
      },
      "types_to_exclude": [
        "module",
        "function",
        "builtin_function_or_method",
        "instance",
        "_Feature"
      ],
      "window_display": false
    },
    "colab": {
      "name": "lesson 13. function3 - callback, lambda.ipynb",
      "provenance": [],
      "collapsed_sections": [],
      "include_colab_link": true
    }
  },
  "nbformat": 4,
  "nbformat_minor": 0
}